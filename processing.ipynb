{
 "cells": [
  {
   "cell_type": "markdown",
   "metadata": {},
   "source": [
    "## Import modules "
   ]
  },
  {
   "cell_type": "code",
   "execution_count": 1,
   "metadata": {},
   "outputs": [
    {
     "data": {
      "text/plain": [
       "['verified_0',\n",
       " 'verified_0_prepre',\n",
       " 'verified_0_post',\n",
       " 'verified_0_pre',\n",
       " 'misc.',\n",
       " 'master.csv']"
      ]
     },
     "execution_count": 1,
     "metadata": {},
     "output_type": "execute_result"
    }
   ],
   "source": [
    "import os\n",
    "import pandas as pd\n",
    "import numpy as np\n",
    "os.listdir('./data')"
   ]
  },
  {
   "cell_type": "markdown",
   "metadata": {},
   "source": [
    "## Fetch data"
   ]
  },
  {
   "cell_type": "code",
   "execution_count": 2,
   "metadata": {},
   "outputs": [
    {
     "data": {
      "text/html": [
       "<div>\n",
       "<style scoped>\n",
       "    .dataframe tbody tr th:only-of-type {\n",
       "        vertical-align: middle;\n",
       "    }\n",
       "\n",
       "    .dataframe tbody tr th {\n",
       "        vertical-align: top;\n",
       "    }\n",
       "\n",
       "    .dataframe thead th {\n",
       "        text-align: right;\n",
       "    }\n",
       "</style>\n",
       "<table border=\"1\" class=\"dataframe\">\n",
       "  <thead>\n",
       "    <tr style=\"text-align: right;\">\n",
       "      <th></th>\n",
       "      <th>id</th>\n",
       "      <th>conversation_id</th>\n",
       "      <th>created_at</th>\n",
       "      <th>date</th>\n",
       "      <th>time</th>\n",
       "      <th>timezone</th>\n",
       "      <th>user_id</th>\n",
       "      <th>username</th>\n",
       "      <th>name</th>\n",
       "      <th>place</th>\n",
       "      <th>...</th>\n",
       "      <th>geo</th>\n",
       "      <th>source</th>\n",
       "      <th>user_rt_id</th>\n",
       "      <th>user_rt</th>\n",
       "      <th>retweet_id</th>\n",
       "      <th>reply_to</th>\n",
       "      <th>retweet_date</th>\n",
       "      <th>translate</th>\n",
       "      <th>trans_src</th>\n",
       "      <th>trans_dest</th>\n",
       "    </tr>\n",
       "  </thead>\n",
       "  <tbody>\n",
       "    <tr>\n",
       "      <th>0</th>\n",
       "      <td>1365744207437172743</td>\n",
       "      <td>1365744207437172743</td>\n",
       "      <td>2021-02-28 00:52:48 IST</td>\n",
       "      <td>2021-02-28</td>\n",
       "      <td>00:52:48</td>\n",
       "      <td>530</td>\n",
       "      <td>602324925</td>\n",
       "      <td>davidzhorvath</td>\n",
       "      <td>DAVID HORVATH</td>\n",
       "      <td>NaN</td>\n",
       "      <td>...</td>\n",
       "      <td>NaN</td>\n",
       "      <td>NaN</td>\n",
       "      <td>NaN</td>\n",
       "      <td>NaN</td>\n",
       "      <td>NaN</td>\n",
       "      <td>[]</td>\n",
       "      <td>NaN</td>\n",
       "      <td>NaN</td>\n",
       "      <td>NaN</td>\n",
       "      <td>NaN</td>\n",
       "    </tr>\n",
       "    <tr>\n",
       "      <th>1</th>\n",
       "      <td>1365672463162511360</td>\n",
       "      <td>1365672463162511360</td>\n",
       "      <td>2021-02-27 20:07:42 IST</td>\n",
       "      <td>2021-02-27</td>\n",
       "      <td>20:07:42</td>\n",
       "      <td>530</td>\n",
       "      <td>147645576</td>\n",
       "      <td>starkillers</td>\n",
       "      <td>Starkillers.x</td>\n",
       "      <td>NaN</td>\n",
       "      <td>...</td>\n",
       "      <td>NaN</td>\n",
       "      <td>NaN</td>\n",
       "      <td>NaN</td>\n",
       "      <td>NaN</td>\n",
       "      <td>NaN</td>\n",
       "      <td>[]</td>\n",
       "      <td>NaN</td>\n",
       "      <td>NaN</td>\n",
       "      <td>NaN</td>\n",
       "      <td>NaN</td>\n",
       "    </tr>\n",
       "    <tr>\n",
       "      <th>2</th>\n",
       "      <td>1365658124649189379</td>\n",
       "      <td>1365655495047073794</td>\n",
       "      <td>2021-02-27 19:10:44 IST</td>\n",
       "      <td>2021-02-27</td>\n",
       "      <td>19:10:44</td>\n",
       "      <td>530</td>\n",
       "      <td>21355864</td>\n",
       "      <td>tj</td>\n",
       "      <td>TAYLOR JONΞS</td>\n",
       "      <td>NaN</td>\n",
       "      <td>...</td>\n",
       "      <td>NaN</td>\n",
       "      <td>NaN</td>\n",
       "      <td>NaN</td>\n",
       "      <td>NaN</td>\n",
       "      <td>NaN</td>\n",
       "      <td>[]</td>\n",
       "      <td>NaN</td>\n",
       "      <td>NaN</td>\n",
       "      <td>NaN</td>\n",
       "      <td>NaN</td>\n",
       "    </tr>\n",
       "  </tbody>\n",
       "</table>\n",
       "<p>3 rows × 36 columns</p>\n",
       "</div>"
      ],
      "text/plain": [
       "                    id      conversation_id               created_at  \\\n",
       "0  1365744207437172743  1365744207437172743  2021-02-28 00:52:48 IST   \n",
       "1  1365672463162511360  1365672463162511360  2021-02-27 20:07:42 IST   \n",
       "2  1365658124649189379  1365655495047073794  2021-02-27 19:10:44 IST   \n",
       "\n",
       "         date      time  timezone    user_id       username           name  \\\n",
       "0  2021-02-28  00:52:48       530  602324925  davidzhorvath  DAVID HORVATH   \n",
       "1  2021-02-27  20:07:42       530  147645576    starkillers  Starkillers.x   \n",
       "2  2021-02-27  19:10:44       530   21355864             tj   TAYLOR JONΞS   \n",
       "\n",
       "  place  ... geo source user_rt_id user_rt retweet_id  reply_to  retweet_date  \\\n",
       "0   NaN  ... NaN    NaN        NaN     NaN        NaN        []           NaN   \n",
       "1   NaN  ... NaN    NaN        NaN     NaN        NaN        []           NaN   \n",
       "2   NaN  ... NaN    NaN        NaN     NaN        NaN        []           NaN   \n",
       "\n",
       "   translate trans_src trans_dest  \n",
       "0        NaN       NaN        NaN  \n",
       "1        NaN       NaN        NaN  \n",
       "2        NaN       NaN        NaN  \n",
       "\n",
       "[3 rows x 36 columns]"
      ]
     },
     "execution_count": 2,
     "metadata": {},
     "output_type": "execute_result"
    }
   ],
   "source": [
    "tweets = pd.read_csv('./data/master.csv', lineterminator='\\n')\n",
    "\n",
    "tweets.head(3)"
   ]
  },
  {
   "cell_type": "markdown",
   "metadata": {},
   "source": [
    "## Observe basic details/statistics of data"
   ]
  },
  {
   "cell_type": "code",
   "execution_count": 3,
   "metadata": {},
   "outputs": [
    {
     "name": "stdout",
     "output_type": "stream",
     "text": [
      "<class 'pandas.core.frame.DataFrame'>\n",
      "RangeIndex: 100200 entries, 0 to 100199\n",
      "Data columns (total 36 columns):\n",
      " #   Column           Non-Null Count   Dtype  \n",
      "---  ------           --------------   -----  \n",
      " 0   id               100200 non-null  int64  \n",
      " 1   conversation_id  100200 non-null  int64  \n",
      " 2   created_at       100200 non-null  object \n",
      " 3   date             100200 non-null  object \n",
      " 4   time             100200 non-null  object \n",
      " 5   timezone         100200 non-null  int64  \n",
      " 6   user_id          100200 non-null  int64  \n",
      " 7   username         100200 non-null  object \n",
      " 8   name             100200 non-null  object \n",
      " 9   place            50 non-null      object \n",
      " 10  tweet            100200 non-null  object \n",
      " 11  language         100200 non-null  object \n",
      " 12  mentions         100200 non-null  object \n",
      " 13  urls             100200 non-null  object \n",
      " 14  photos           100200 non-null  object \n",
      " 15  replies_count    100200 non-null  int64  \n",
      " 16  retweets_count   100200 non-null  int64  \n",
      " 17  likes_count      100200 non-null  int64  \n",
      " 18  hashtags         100200 non-null  object \n",
      " 19  cashtags         100200 non-null  object \n",
      " 20  link             100200 non-null  object \n",
      " 21  retweet          100200 non-null  bool   \n",
      " 22  quote_url        12106 non-null   object \n",
      " 23  video            100200 non-null  int64  \n",
      " 24  thumbnail        42549 non-null   object \n",
      " 25  near             0 non-null       float64\n",
      " 26  geo              0 non-null       float64\n",
      " 27  source           0 non-null       float64\n",
      " 28  user_rt_id       0 non-null       float64\n",
      " 29  user_rt          0 non-null       float64\n",
      " 30  retweet_id       0 non-null       float64\n",
      " 31  reply_to         100200 non-null  object \n",
      " 32  retweet_date     0 non-null       float64\n",
      " 33  translate        0 non-null       float64\n",
      " 34  trans_src        0 non-null       float64\n",
      " 35  trans_dest       0 non-null       float64\n",
      "dtypes: bool(1), float64(10), int64(8), object(17)\n",
      "memory usage: 26.9+ MB\n"
     ]
    }
   ],
   "source": [
    "tweets.info()"
   ]
  },
  {
   "cell_type": "markdown",
   "metadata": {},
   "source": [
    "## Filter 1: Drop columns with 0 non-null values"
   ]
  },
  {
   "cell_type": "code",
   "execution_count": 4,
   "metadata": {},
   "outputs": [],
   "source": [
    "# Fetch non-null features\n",
    "non_null_cols = tweets.columns[tweets.isnull().sum() < len(tweets)].to_list()"
   ]
  },
  {
   "cell_type": "code",
   "execution_count": 5,
   "metadata": {},
   "outputs": [],
   "source": [
    "df1 = tweets[non_null_cols]"
   ]
  },
  {
   "cell_type": "code",
   "execution_count": 6,
   "metadata": {},
   "outputs": [
    {
     "name": "stdout",
     "output_type": "stream",
     "text": [
      "<class 'pandas.core.frame.DataFrame'>\n",
      "RangeIndex: 100200 entries, 0 to 100199\n",
      "Data columns (total 26 columns):\n",
      " #   Column           Non-Null Count   Dtype \n",
      "---  ------           --------------   ----- \n",
      " 0   id               100200 non-null  int64 \n",
      " 1   conversation_id  100200 non-null  int64 \n",
      " 2   created_at       100200 non-null  object\n",
      " 3   date             100200 non-null  object\n",
      " 4   time             100200 non-null  object\n",
      " 5   timezone         100200 non-null  int64 \n",
      " 6   user_id          100200 non-null  int64 \n",
      " 7   username         100200 non-null  object\n",
      " 8   name             100200 non-null  object\n",
      " 9   place            50 non-null      object\n",
      " 10  tweet            100200 non-null  object\n",
      " 11  language         100200 non-null  object\n",
      " 12  mentions         100200 non-null  object\n",
      " 13  urls             100200 non-null  object\n",
      " 14  photos           100200 non-null  object\n",
      " 15  replies_count    100200 non-null  int64 \n",
      " 16  retweets_count   100200 non-null  int64 \n",
      " 17  likes_count      100200 non-null  int64 \n",
      " 18  hashtags         100200 non-null  object\n",
      " 19  cashtags         100200 non-null  object\n",
      " 20  link             100200 non-null  object\n",
      " 21  retweet          100200 non-null  bool  \n",
      " 22  quote_url        12106 non-null   object\n",
      " 23  video            100200 non-null  int64 \n",
      " 24  thumbnail        42549 non-null   object\n",
      " 25  reply_to         100200 non-null  object\n",
      "dtypes: bool(1), int64(8), object(17)\n",
      "memory usage: 19.2+ MB\n"
     ]
    }
   ],
   "source": [
    "df1.info()"
   ]
  },
  {
   "cell_type": "markdown",
   "metadata": {},
   "source": [
    "## Filter 2: Observe 'suspicious' columns and drop the ones that are unlikely to provide any insights"
   ]
  },
  {
   "cell_type": "code",
   "execution_count": null,
   "metadata": {
    "scrolled": false
   },
   "outputs": [],
   "source": [
    "import ast"
   ]
  },
  {
   "cell_type": "code",
   "execution_count": 10,
   "metadata": {},
   "outputs": [
    {
     "name": "stdout",
     "output_type": "stream",
     "text": [
      "<class 'pandas.core.frame.DataFrame'>\n",
      "RangeIndex: 100200 entries, 0 to 100199\n",
      "Data columns (total 28 columns):\n",
      " #   Column           Non-Null Count   Dtype  \n",
      "---  ------           --------------   -----  \n",
      " 0   id               100200 non-null  int64  \n",
      " 1   conversation_id  100200 non-null  int64  \n",
      " 2   created_at       100200 non-null  object \n",
      " 3   date             100200 non-null  object \n",
      " 4   time             100200 non-null  object \n",
      " 5   timezone         100200 non-null  int64  \n",
      " 6   user_id          100200 non-null  int64  \n",
      " 7   username         100200 non-null  object \n",
      " 8   name             100200 non-null  object \n",
      " 9   place            100200 non-null  object \n",
      " 10  tweet            100200 non-null  object \n",
      " 11  language         100200 non-null  object \n",
      " 12  mentions         100200 non-null  object \n",
      " 13  urls             100200 non-null  object \n",
      " 14  photos           100200 non-null  object \n",
      " 15  replies_count    100200 non-null  int64  \n",
      " 16  retweets_count   100200 non-null  int64  \n",
      " 17  likes_count      100200 non-null  int64  \n",
      " 18  hashtags         100200 non-null  object \n",
      " 19  cashtags         100200 non-null  object \n",
      " 20  link             100200 non-null  object \n",
      " 21  retweet          100200 non-null  bool   \n",
      " 22  quote_url        12106 non-null   object \n",
      " 23  video            100200 non-null  int64  \n",
      " 24  thumbnail        42549 non-null   object \n",
      " 25  reply_to         100200 non-null  object \n",
      " 26  longitude        100200 non-null  float64\n",
      " 27  latitude         100200 non-null  float64\n",
      "dtypes: bool(1), float64(2), int64(8), object(17)\n",
      "memory usage: 20.7+ MB\n"
     ]
    }
   ],
   "source": [
    "df1.info()"
   ]
  },
  {
   "cell_type": "code",
   "execution_count": 11,
   "metadata": {},
   "outputs": [
    {
     "data": {
      "text/plain": [
       "0    1365744207437172743\n",
       "1    1365672463162511360\n",
       "2    1365658124649189379\n",
       "Name: id, dtype: int64"
      ]
     },
     "execution_count": 11,
     "metadata": {},
     "output_type": "execute_result"
    }
   ],
   "source": [
    "df1['id'].head(3)"
   ]
  },
  {
   "cell_type": "markdown",
   "metadata": {},
   "source": [
    "We will need the `id` column as a unique identifier of tweets"
   ]
  },
  {
   "cell_type": "code",
   "execution_count": 12,
   "metadata": {},
   "outputs": [
    {
     "data": {
      "text/plain": [
       "0    1365744207437172743\n",
       "1    1365672463162511360\n",
       "2    1365655495047073794\n",
       "Name: conversation_id, dtype: int64"
      ]
     },
     "execution_count": 12,
     "metadata": {},
     "output_type": "execute_result"
    }
   ],
   "source": [
    "df1['conversation_id'].head(3)"
   ]
  },
  {
   "cell_type": "markdown",
   "metadata": {},
   "source": [
    "`conversation_id` is the same as `id`"
   ]
  },
  {
   "cell_type": "code",
   "execution_count": 13,
   "metadata": {},
   "outputs": [
    {
     "data": {
      "text/plain": [
       "0    2021-02-28 00:52:48 IST\n",
       "1    2021-02-27 20:07:42 IST\n",
       "2    2021-02-27 19:10:44 IST\n",
       "Name: created_at, dtype: object"
      ]
     },
     "execution_count": 13,
     "metadata": {},
     "output_type": "execute_result"
    }
   ],
   "source": [
    "df1['created_at'].head(3)"
   ]
  },
  {
   "cell_type": "markdown",
   "metadata": {},
   "source": [
    "`created_at` is already split as `date` and `time`"
   ]
  },
  {
   "cell_type": "code",
   "execution_count": 14,
   "metadata": {},
   "outputs": [
    {
     "data": {
      "text/plain": [
       "530    100200\n",
       "Name: timezone, dtype: int64"
      ]
     },
     "execution_count": 14,
     "metadata": {},
     "output_type": "execute_result"
    }
   ],
   "source": [
    "df1['timezone'].value_counts()"
   ]
  },
  {
   "cell_type": "markdown",
   "metadata": {},
   "source": [
    "`timezone` is the same, thus making it redundant"
   ]
  },
  {
   "cell_type": "code",
   "execution_count": 15,
   "metadata": {},
   "outputs": [
    {
     "data": {
      "text/plain": [
       "0    602324925\n",
       "1    147645576\n",
       "2     21355864\n",
       "Name: user_id, dtype: int64"
      ]
     },
     "execution_count": 15,
     "metadata": {},
     "output_type": "execute_result"
    }
   ],
   "source": [
    "df1['user_id'].head(3)"
   ]
  },
  {
   "cell_type": "markdown",
   "metadata": {},
   "source": [
    "`user_id` is not as insightful as `username`, they point to the same aspect"
   ]
  },
  {
   "cell_type": "code",
   "execution_count": 16,
   "metadata": {},
   "outputs": [
    {
     "data": {
      "text/plain": [
       "0    DAVID HORVATH\n",
       "1    Starkillers.x\n",
       "2     TAYLOR JONΞS\n",
       "Name: name, dtype: object"
      ]
     },
     "execution_count": 16,
     "metadata": {},
     "output_type": "execute_result"
    }
   ],
   "source": [
    "df1['name'].head(3)"
   ]
  },
  {
   "cell_type": "markdown",
   "metadata": {},
   "source": [
    "Again, `name` might not be required for analysis"
   ]
  },
  {
   "cell_type": "code",
   "execution_count": 17,
   "metadata": {},
   "outputs": [
    {
     "data": {
      "text/plain": [
       "\"[{'screen_name': 'forbes', 'name': 'forbes', 'id': '91478624'}, {'screen_name': 'zilliqa', 'name': 'zilliqa', 'id': '872984298973941764'}, {'screen_name': 'mintable_app', 'name': 'mintable', 'id': '1070246849234096134'}]\""
      ]
     },
     "execution_count": 17,
     "metadata": {},
     "output_type": "execute_result"
    }
   ],
   "source": [
    "df1['mentions'].head(3).iloc[1]"
   ]
  },
  {
   "cell_type": "markdown",
   "metadata": {},
   "source": [
    "We are interested in obtaining each of the `screen_name`s"
   ]
  },
  {
   "cell_type": "code",
   "execution_count": 19,
   "metadata": {},
   "outputs": [
    {
     "data": {
      "text/plain": [
       "['nftart', 'nftcommunity']"
      ]
     },
     "execution_count": 19,
     "metadata": {},
     "output_type": "execute_result"
    }
   ],
   "source": [
    "ast.literal_eval(df1['hashtags'][2])"
   ]
  },
  {
   "cell_type": "markdown",
   "metadata": {},
   "source": [
    "We are interested in obtaining each of the `hashtag`s. Note: There are multiple hashtags associated with a single tweet"
   ]
  },
  {
   "cell_type": "code",
   "execution_count": 20,
   "metadata": {
    "scrolled": true
   },
   "outputs": [
    {
     "data": {
      "text/plain": [
       "36944    []\n",
       "63105    []\n",
       "77931    []\n",
       "Name: cashtags, dtype: object"
      ]
     },
     "execution_count": 20,
     "metadata": {},
     "output_type": "execute_result"
    }
   ],
   "source": [
    "df1['cashtags'].sample(3)"
   ]
  },
  {
   "cell_type": "markdown",
   "metadata": {},
   "source": [
    "We are interested in obtaining each of the `cashtag`s"
   ]
  },
  {
   "cell_type": "code",
   "execution_count": 21,
   "metadata": {},
   "outputs": [
    {
     "data": {
      "text/plain": [
       "0    https://twitter.com/davidzhorvath/status/13657...\n",
       "1    https://twitter.com/Starkillers/status/1365672...\n",
       "2    https://twitter.com/TJ/status/1365658124649189379\n",
       "Name: link, dtype: object"
      ]
     },
     "execution_count": 21,
     "metadata": {},
     "output_type": "execute_result"
    }
   ],
   "source": [
    "df1['link'].head(3)"
   ]
  },
  {
   "cell_type": "markdown",
   "metadata": {},
   "source": [
    "`link` might not be of much help here"
   ]
  },
  {
   "cell_type": "code",
   "execution_count": 22,
   "metadata": {},
   "outputs": [
    {
     "data": {
      "text/plain": [
       "False    100200\n",
       "Name: retweet, dtype: int64"
      ]
     },
     "execution_count": 22,
     "metadata": {},
     "output_type": "execute_result"
    }
   ],
   "source": [
    "df1['retweet'].value_counts()"
   ]
  },
  {
   "cell_type": "markdown",
   "metadata": {},
   "source": [
    "All values are `False`, this can be dropped"
   ]
  },
  {
   "cell_type": "code",
   "execution_count": 23,
   "metadata": {},
   "outputs": [
    {
     "data": {
      "text/plain": [
       "https://pbs.twimg.com/media/E2_6z9FXEAEdI0i.jpg                                             28\n",
       "https://pbs.twimg.com/media/E0LNc1vXMAAMRgQ.jpg                                             28\n",
       "https://pbs.twimg.com/media/ExTokq1WEAAHNf6.jpg                                             14\n",
       "https://pbs.twimg.com/ext_tw_video_thumb/1381416854300729345/pu/img/tNeeFALZAzxkqdBw.jpg    10\n",
       "https://pbs.twimg.com/ext_tw_video_thumb/1380168083168497668/pu/img/vHWiWtE7LPsUHp6P.jpg    10\n",
       "                                                                                            ..\n",
       "https://pbs.twimg.com/ext_tw_video_thumb/1469752109654495247/pu/img/lGgme5zde5MD5VRR.jpg     1\n",
       "https://pbs.twimg.com/ext_tw_video_thumb/1466331237342224391/pu/img/ZuebLvmm34byBz3B.jpg     1\n",
       "https://pbs.twimg.com/tweet_video_thumb/FGQbKm8VcAMyEfD.jpg                                  1\n",
       "https://pbs.twimg.com/media/FD2JsiKVUAUOEzR.jpg                                              1\n",
       "https://pbs.twimg.com/tweet_video_thumb/E5EqRF-X0AAycVu.jpg                                  1\n",
       "Name: thumbnail, Length: 40062, dtype: int64"
      ]
     },
     "execution_count": 23,
     "metadata": {},
     "output_type": "execute_result"
    }
   ],
   "source": [
    "df1['thumbnail'].value_counts()"
   ]
  },
  {
   "cell_type": "markdown",
   "metadata": {},
   "source": [
    "`thumbnail` seems too complex to get any insight, so dropping this one too"
   ]
  },
  {
   "cell_type": "code",
   "execution_count": 24,
   "metadata": {},
   "outputs": [
    {
     "data": {
      "text/plain": [
       "70380    NaN\n",
       "64909    NaN\n",
       "40806    NaN\n",
       "83816    NaN\n",
       "13112    NaN\n",
       "Name: quote_url, dtype: object"
      ]
     },
     "execution_count": 24,
     "metadata": {},
     "output_type": "execute_result"
    }
   ],
   "source": [
    "df1['quote_url'].sample(5)"
   ]
  },
  {
   "cell_type": "markdown",
   "metadata": {},
   "source": [
    "`quote_url`s can be useful"
   ]
  },
  {
   "cell_type": "code",
   "execution_count": 25,
   "metadata": {},
   "outputs": [
    {
     "data": {
      "text/plain": [
       "0    57651\n",
       "1    42549\n",
       "Name: video, dtype: int64"
      ]
     },
     "execution_count": 25,
     "metadata": {},
     "output_type": "execute_result"
    }
   ],
   "source": [
    "df1['video'].value_counts()"
   ]
  },
  {
   "cell_type": "code",
   "execution_count": 26,
   "metadata": {},
   "outputs": [
    {
     "data": {
      "text/plain": [
       "Index(['id', 'conversation_id', 'created_at', 'date', 'time', 'timezone',\n",
       "       'user_id', 'username', 'name', 'place', 'tweet', 'language', 'mentions',\n",
       "       'urls', 'photos', 'replies_count', 'retweets_count', 'likes_count',\n",
       "       'hashtags', 'cashtags', 'link', 'retweet', 'quote_url', 'video',\n",
       "       'thumbnail', 'reply_to', 'longitude', 'latitude'],\n",
       "      dtype='object')"
      ]
     },
     "execution_count": 26,
     "metadata": {},
     "output_type": "execute_result"
    }
   ],
   "source": [
    "df1.columns"
   ]
  },
  {
   "cell_type": "code",
   "execution_count": 27,
   "metadata": {},
   "outputs": [],
   "source": [
    "# Columns to be dropped\n",
    "drop_cols = ['conversation_id', 'created_at','place', 'timezone', 'user_id','name', \n",
    "             'link', 'retweet', 'thumbnail']\n",
    "df2 = df1.drop(drop_cols, axis= 1)"
   ]
  },
  {
   "cell_type": "markdown",
   "metadata": {},
   "source": [
    "## Transform values "
   ]
  },
  {
   "cell_type": "code",
   "execution_count": 28,
   "metadata": {},
   "outputs": [
    {
     "data": {
      "text/plain": [
       "Index(['id', 'date', 'time', 'username', 'tweet', 'language', 'mentions',\n",
       "       'urls', 'photos', 'replies_count', 'retweets_count', 'likes_count',\n",
       "       'hashtags', 'cashtags', 'quote_url', 'video', 'reply_to', 'longitude',\n",
       "       'latitude'],\n",
       "      dtype='object')"
      ]
     },
     "execution_count": 28,
     "metadata": {},
     "output_type": "execute_result"
    }
   ],
   "source": [
    "df2.columns"
   ]
  },
  {
   "cell_type": "code",
   "execution_count": 29,
   "metadata": {},
   "outputs": [
    {
     "name": "stdout",
     "output_type": "stream",
     "text": [
      "There are 9668 unique users tweeting on NFTs\n",
      "Tweets on NFTs were observed in 50 unique languages\n"
     ]
    }
   ],
   "source": [
    "unique_users = df2['username'].nunique()\n",
    "print(f'There are {unique_users} unique users tweeting on NFTs')\n",
    "unique_languages = df2['language'].nunique()\n",
    "print(f'Tweets on NFTs were observed in {unique_languages} unique languages')"
   ]
  },
  {
   "cell_type": "markdown",
   "metadata": {},
   "source": [
    "## Main Transformations  \n",
    "\n",
    "\n",
    "We will now proceed to obtain each of the following elements, to obtain counts/sum; even if there are multiple elements in each record. The elements are:  \n",
    "- Hashtags  \n",
    "- Cashtags\n",
    "- Forum\n",
    "- Quote URLs\n",
    "- Mentions\n",
    "- Reply To"
   ]
  },
  {
   "cell_type": "code",
   "execution_count": 30,
   "metadata": {},
   "outputs": [],
   "source": [
    "df2['hashtags'] = df2['hashtags'].apply(lambda x: ast.literal_eval(x))\n",
    "\n",
    "df2['cashtags'] = df2['cashtags'].apply(lambda x: ast.literal_eval(x))\n",
    "\n",
    "df2['forum'] = df2['urls'].apply(lambda x: ast.literal_eval(x)).apply(lambda x:[url.split('/')[2] for url in x])"
   ]
  },
  {
   "cell_type": "code",
   "execution_count": 31,
   "metadata": {},
   "outputs": [],
   "source": [
    "df2['quote_url'].fillna('x//x/none', inplace= True)\n",
    "df2['quote_url'].replace('0', 'x//x/none', inplace= True)\n",
    "\n",
    "df2['quoted_user'] = df2['quote_url'].apply(lambda x: x.split('/')[3])\n",
    "\n",
    "\n",
    "df2['mentioned_user'] = df2['mentions'].apply(lambda x: ast.literal_eval(x)).apply(lambda x: [user['screen_name'] for user in x])\n",
    "\n",
    "df2['reply_to_user'] = df2['reply_to'].apply(lambda x: ast.literal_eval(x)).apply(lambda x: [user['screen_name'] for user in x])"
   ]
  },
  {
   "cell_type": "code",
   "execution_count": 32,
   "metadata": {},
   "outputs": [],
   "source": [
    "# Aggregate all the columns required for analysis\n",
    "columns = ['id', 'date', 'time', 'username', 'tweet', 'language', 'mentioned_user', 'forum',\n",
    "        'replies_count', 'retweets_count', 'likes_count', 'hashtags',\n",
    "       'cashtags', 'quoted_user', 'video', 'reply_to_user', 'longitude', 'latitude'] "
   ]
  },
  {
   "cell_type": "code",
   "execution_count": 34,
   "metadata": {},
   "outputs": [
    {
     "data": {
      "text/html": [
       "<div>\n",
       "<style scoped>\n",
       "    .dataframe tbody tr th:only-of-type {\n",
       "        vertical-align: middle;\n",
       "    }\n",
       "\n",
       "    .dataframe tbody tr th {\n",
       "        vertical-align: top;\n",
       "    }\n",
       "\n",
       "    .dataframe thead th {\n",
       "        text-align: right;\n",
       "    }\n",
       "</style>\n",
       "<table border=\"1\" class=\"dataframe\">\n",
       "  <thead>\n",
       "    <tr style=\"text-align: right;\">\n",
       "      <th></th>\n",
       "      <th>id</th>\n",
       "      <th>date</th>\n",
       "      <th>time</th>\n",
       "      <th>username</th>\n",
       "      <th>tweet</th>\n",
       "      <th>language</th>\n",
       "      <th>mentioned_user</th>\n",
       "      <th>forum</th>\n",
       "      <th>replies_count</th>\n",
       "      <th>retweets_count</th>\n",
       "      <th>likes_count</th>\n",
       "      <th>hashtags</th>\n",
       "      <th>cashtags</th>\n",
       "      <th>quoted_user</th>\n",
       "      <th>video</th>\n",
       "      <th>reply_to_user</th>\n",
       "      <th>longitude</th>\n",
       "      <th>latitude</th>\n",
       "    </tr>\n",
       "  </thead>\n",
       "  <tbody>\n",
       "    <tr>\n",
       "      <th>73351</th>\n",
       "      <td>1493493449680887811</td>\n",
       "      <td>2022-02-15</td>\n",
       "      <td>13:22:40</td>\n",
       "      <td>flufworld</td>\n",
       "      <td>4)   A LOT goes into making this happen.   The...</td>\n",
       "      <td>en</td>\n",
       "      <td>[beyondvrgames]</td>\n",
       "      <td>[]</td>\n",
       "      <td>1</td>\n",
       "      <td>2</td>\n",
       "      <td>30</td>\n",
       "      <td>[flufworld, nftcommunity]</td>\n",
       "      <td>[]</td>\n",
       "      <td>none</td>\n",
       "      <td>1</td>\n",
       "      <td>[]</td>\n",
       "      <td>0.0</td>\n",
       "      <td>0.0</td>\n",
       "    </tr>\n",
       "    <tr>\n",
       "      <th>56618</th>\n",
       "      <td>1468864358033809408</td>\n",
       "      <td>2021-12-09</td>\n",
       "      <td>14:15:27</td>\n",
       "      <td>ralvero</td>\n",
       "      <td>This project on ETH looks really amazing,  I l...</td>\n",
       "      <td>en</td>\n",
       "      <td>[]</td>\n",
       "      <td>[bit.ly, t.me]</td>\n",
       "      <td>40</td>\n",
       "      <td>42</td>\n",
       "      <td>59</td>\n",
       "      <td>[nft, nfts]</td>\n",
       "      <td>[]</td>\n",
       "      <td>none</td>\n",
       "      <td>1</td>\n",
       "      <td>[]</td>\n",
       "      <td>0.0</td>\n",
       "      <td>0.0</td>\n",
       "    </tr>\n",
       "  </tbody>\n",
       "</table>\n",
       "</div>"
      ],
      "text/plain": [
       "                        id        date      time   username  \\\n",
       "73351  1493493449680887811  2022-02-15  13:22:40  flufworld   \n",
       "56618  1468864358033809408  2021-12-09  14:15:27    ralvero   \n",
       "\n",
       "                                                   tweet language  \\\n",
       "73351  4)   A LOT goes into making this happen.   The...       en   \n",
       "56618  This project on ETH looks really amazing,  I l...       en   \n",
       "\n",
       "        mentioned_user           forum  replies_count  retweets_count  \\\n",
       "73351  [beyondvrgames]              []              1               2   \n",
       "56618               []  [bit.ly, t.me]             40              42   \n",
       "\n",
       "       likes_count                   hashtags cashtags quoted_user  video  \\\n",
       "73351           30  [flufworld, nftcommunity]       []        none      1   \n",
       "56618           59                [nft, nfts]       []        none      1   \n",
       "\n",
       "      reply_to_user  longitude  latitude  \n",
       "73351            []        0.0       0.0  \n",
       "56618            []        0.0       0.0  "
      ]
     },
     "execution_count": 34,
     "metadata": {},
     "output_type": "execute_result"
    }
   ],
   "source": [
    "df2[columns].sample(2)"
   ]
  },
  {
   "cell_type": "code",
   "execution_count": 35,
   "metadata": {},
   "outputs": [],
   "source": [
    "df2.to_csv('./data/master_explode.csv', index= False)"
   ]
  },
  {
   "cell_type": "markdown",
   "metadata": {},
   "source": [
    "### Transform features from wide to long format"
   ]
  },
  {
   "cell_type": "code",
   "execution_count": 36,
   "metadata": {},
   "outputs": [],
   "source": [
    "explode_cols = ['mentioned_user', 'forum', 'hashtags', 'cashtags', 'reply_to_user']\n",
    "eval_cols = dict.fromkeys(explode_cols, pd.eval) # 'quoted_user',\n"
   ]
  },
  {
   "cell_type": "code",
   "execution_count": 37,
   "metadata": {},
   "outputs": [],
   "source": [
    "explode = pd.read_csv('./data/master_explode.csv', lineterminator='\\n', converters= eval_cols)\n",
    "final = explode[columns]"
   ]
  },
  {
   "cell_type": "code",
   "execution_count": 38,
   "metadata": {},
   "outputs": [],
   "source": [
    "final.to_csv('./data/nft_verified_tweets.csv', index= False)"
   ]
  },
  {
   "cell_type": "code",
   "execution_count": 39,
   "metadata": {},
   "outputs": [
    {
     "data": {
      "text/html": [
       "<div>\n",
       "<style scoped>\n",
       "    .dataframe tbody tr th:only-of-type {\n",
       "        vertical-align: middle;\n",
       "    }\n",
       "\n",
       "    .dataframe tbody tr th {\n",
       "        vertical-align: top;\n",
       "    }\n",
       "\n",
       "    .dataframe thead th {\n",
       "        text-align: right;\n",
       "    }\n",
       "</style>\n",
       "<table border=\"1\" class=\"dataframe\">\n",
       "  <thead>\n",
       "    <tr style=\"text-align: right;\">\n",
       "      <th></th>\n",
       "      <th>id</th>\n",
       "      <th>date</th>\n",
       "      <th>time</th>\n",
       "      <th>username</th>\n",
       "      <th>tweet</th>\n",
       "      <th>language</th>\n",
       "      <th>mentioned_user</th>\n",
       "      <th>forum</th>\n",
       "      <th>replies_count</th>\n",
       "      <th>retweets_count</th>\n",
       "      <th>likes_count</th>\n",
       "      <th>hashtags</th>\n",
       "      <th>cashtags</th>\n",
       "      <th>quoted_user</th>\n",
       "      <th>video</th>\n",
       "      <th>reply_to_user</th>\n",
       "      <th>longitude</th>\n",
       "      <th>latitude</th>\n",
       "    </tr>\n",
       "  </thead>\n",
       "  <tbody>\n",
       "    <tr>\n",
       "      <th>0</th>\n",
       "      <td>1365744207437172743</td>\n",
       "      <td>2021-02-28</td>\n",
       "      <td>00:52:48</td>\n",
       "      <td>davidzhorvath</td>\n",
       "      <td>My work, one of many, from a solo show in Toky...</td>\n",
       "      <td>en</td>\n",
       "      <td>[]</td>\n",
       "      <td>[]</td>\n",
       "      <td>1</td>\n",
       "      <td>0</td>\n",
       "      <td>9</td>\n",
       "      <td>[nftart]</td>\n",
       "      <td>[]</td>\n",
       "      <td>none</td>\n",
       "      <td>1</td>\n",
       "      <td>[]</td>\n",
       "      <td>0.0</td>\n",
       "      <td>0.0</td>\n",
       "    </tr>\n",
       "    <tr>\n",
       "      <th>1</th>\n",
       "      <td>1365672463162511360</td>\n",
       "      <td>2021-02-27</td>\n",
       "      <td>20:07:42</td>\n",
       "      <td>starkillers</td>\n",
       "      <td>#nftart article from @Forbes #zil @zilliqa get...</td>\n",
       "      <td>en</td>\n",
       "      <td>[forbes, zilliqa, mintable_app]</td>\n",
       "      <td>[www.forbes.com, bit.ly]</td>\n",
       "      <td>1</td>\n",
       "      <td>15</td>\n",
       "      <td>56</td>\n",
       "      <td>[nftart, zil, nft]</td>\n",
       "      <td>[]</td>\n",
       "      <td>none</td>\n",
       "      <td>0</td>\n",
       "      <td>[]</td>\n",
       "      <td>0.0</td>\n",
       "      <td>0.0</td>\n",
       "    </tr>\n",
       "  </tbody>\n",
       "</table>\n",
       "</div>"
      ],
      "text/plain": [
       "                    id        date      time       username  \\\n",
       "0  1365744207437172743  2021-02-28  00:52:48  davidzhorvath   \n",
       "1  1365672463162511360  2021-02-27  20:07:42    starkillers   \n",
       "\n",
       "                                               tweet language  \\\n",
       "0  My work, one of many, from a solo show in Toky...       en   \n",
       "1  #nftart article from @Forbes #zil @zilliqa get...       en   \n",
       "\n",
       "                    mentioned_user                     forum  replies_count  \\\n",
       "0                               []                        []              1   \n",
       "1  [forbes, zilliqa, mintable_app]  [www.forbes.com, bit.ly]              1   \n",
       "\n",
       "   retweets_count  likes_count            hashtags cashtags quoted_user  \\\n",
       "0               0            9            [nftart]       []        none   \n",
       "1              15           56  [nftart, zil, nft]       []        none   \n",
       "\n",
       "   video reply_to_user  longitude  latitude  \n",
       "0      1            []        0.0       0.0  \n",
       "1      0            []        0.0       0.0  "
      ]
     },
     "execution_count": 39,
     "metadata": {},
     "output_type": "execute_result"
    }
   ],
   "source": [
    "final.head(2)"
   ]
  },
  {
   "cell_type": "code",
   "execution_count": 40,
   "metadata": {},
   "outputs": [],
   "source": [
    "def explode_col(col, df= final, export_required= False):\n",
    "    \"\"\"\n",
    "    Explode dataframe based on a certain feature\n",
    "    \n",
    "    Input: \n",
    "        col: Feature on the basis of which the DataFrame will be transformed\n",
    "        df: The DataFrame which is to be transformed\n",
    "        export_required: If `True`, then the transformed DataFrame is saved in CSV format\n",
    "        \n",
    "    Output:\n",
    "        exploded_df: Transformed DF\n",
    "    \"\"\"\n",
    "    exploded_df = df[['id', 'date', 'time', col]].explode(col).fillna('none')\n",
    "    \n",
    "    if export_required:\n",
    "        exploded_df.to_csv(f'./data/explode_{col}', index= False)\n",
    "    return exploded_df"
   ]
  },
  {
   "cell_type": "code",
   "execution_count": 41,
   "metadata": {},
   "outputs": [],
   "source": [
    "user_mentions = explode_col('mentioned_user', export_required= True)\n",
    "\n",
    "forums = explode_col('forum', export_required= True)\n",
    "\n",
    "hashtags = explode_col('hashtags', export_required= True)\n",
    "\n",
    "cashtags = explode_col('cashtags', export_required= True)\n",
    "\n",
    "replies = explode_col('reply_to_user', export_required= True)\n"
   ]
  },
  {
   "cell_type": "code",
   "execution_count": 43,
   "metadata": {},
   "outputs": [],
   "source": [
    "# Fetch only english tweets\n",
    "eng_tweets = final[final['language']=='en']\n",
    "eng_tweets.to_csv('./data/nft_verified_tweets_english.csv', index= False)"
   ]
  }
 ],
 "metadata": {
  "kernelspec": {
   "display_name": "nft",
   "language": "python",
   "name": "nft"
  },
  "language_info": {
   "codemirror_mode": {
    "name": "ipython",
    "version": 3
   },
   "file_extension": ".py",
   "mimetype": "text/x-python",
   "name": "python",
   "nbconvert_exporter": "python",
   "pygments_lexer": "ipython3",
   "version": "3.9.7"
  }
 },
 "nbformat": 4,
 "nbformat_minor": 5
}
