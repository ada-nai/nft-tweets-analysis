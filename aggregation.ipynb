{
 "cells": [
  {
   "cell_type": "code",
   "execution_count": 1,
   "metadata": {},
   "outputs": [],
   "source": [
    "import os \n",
    "import pandas as pd\n",
    "import numpy as np"
   ]
  },
  {
   "cell_type": "code",
   "execution_count": 2,
   "metadata": {},
   "outputs": [
    {
     "name": "stdout",
     "output_type": "stream",
     "text": [
      "/home/doctor_s/public/hax/bits\n",
      "['verified_0', 'verified_0_prepre', 'verified_0_post', 'verified_0_pre', 'misc.']\n"
     ]
    }
   ],
   "source": [
    "print(os.getcwd())\n",
    "print(os.listdir('./data'))"
   ]
  },
  {
   "cell_type": "code",
   "execution_count": 3,
   "metadata": {},
   "outputs": [
    {
     "name": "stdout",
     "output_type": "stream",
     "text": [
      "['#nftart.csv', '#NFTCollection.csv', '#NFTMarketplace.csv', '#NFTGame.csv', '#nft.csv', '#NFTCommunity.csv', '#NFTartists.csv', '#nfts.csv', '#Metaverse, #NFTs.csv', '#NFT.csv', '#Web3, #NFTs.csv', '#NFTdrop.csv', '#NFTdrops.csv', '#NFTs.csv', '#NFTGiveaway.csv', '#NFTProject.csv', '#nftcollector.csv']\n"
     ]
    }
   ],
   "source": [
    "print(os.listdir('./data/verified_0/tweets/'))"
   ]
  },
  {
   "cell_type": "code",
   "execution_count": 4,
   "metadata": {},
   "outputs": [],
   "source": [
    "def concat_df(path):\n",
    "    \"\"\"\n",
    "    Concatenate records from different CSV files in the same directory\n",
    "    \n",
    "    Input: Path to directory\n",
    "    \n",
    "    Output: Concatenated DataFrame  \n",
    "    \"\"\"\n",
    "    csv_list = os.listdir(path)\n",
    "    agg_df  = pd.read_csv(path+csv_list[0])\n",
    "    for csv in csv_list[1:]:\n",
    "        sub_df = pd.read_csv(path+csv)\n",
    "        agg_df = pd.concat([agg_df, sub_df], ignore_index= True)\n",
    "    return agg_df"
   ]
  },
  {
   "cell_type": "code",
   "execution_count": 5,
   "metadata": {},
   "outputs": [],
   "source": [
    "prepre = concat_df('./data/verified_0_prepre/tweets/')\n",
    "pre = concat_df('./data/verified_0_pre/tweets/')\n",
    "mid = concat_df('./data/verified_0/tweets/')\n",
    "post = concat_df('./data/verified_0_post/tweets/')"
   ]
  },
  {
   "cell_type": "code",
   "execution_count": 6,
   "metadata": {},
   "outputs": [],
   "source": [
    "def merge_to_main(main, subs):\n",
    "    \"\"\"\n",
    "    Create a master DataFrame from aggregated DataFrames and drop duplicates, if any\n",
    "    \n",
    "    Input:\n",
    "        main: The DataFrame in which all other dataframes are to be merged into\n",
    "        subs: The other DataFrames which are to be merged into main\n",
    "        \n",
    "    Output:\n",
    "        main: DataFrame with unique set of records\n",
    "    \"\"\"\n",
    "    for sub in subs:  \n",
    "        main = pd.concat([main, sub])\n",
    "    duplicates = main.duplicated(keep= 'first').sum()\n",
    "    print(f'{duplicates} duplicate records found')\n",
    "    main = main.drop_duplicates(keep= 'first', ignore_index= True)\n",
    "    print('Duplicates dropped')\n",
    "    print(f'Unique tweets: {len(main)}')\n",
    "    return main"
   ]
  },
  {
   "cell_type": "code",
   "execution_count": 7,
   "metadata": {},
   "outputs": [
    {
     "name": "stdout",
     "output_type": "stream",
     "text": [
      "112872 duplicate records found\n",
      "Duplicates dropped\n",
      "Unique tweets: 100200\n"
     ]
    }
   ],
   "source": [
    "master = merge_to_main(prepre, [pre, mid, post])"
   ]
  },
  {
   "cell_type": "code",
   "execution_count": 8,
   "metadata": {},
   "outputs": [],
   "source": [
    "# master.to_csv('./data/master.csv', index= False)"
   ]
  }
 ],
 "metadata": {
  "kernelspec": {
   "display_name": "nft",
   "language": "python",
   "name": "nft"
  },
  "language_info": {
   "codemirror_mode": {
    "name": "ipython",
    "version": 3
   },
   "file_extension": ".py",
   "mimetype": "text/x-python",
   "name": "python",
   "nbconvert_exporter": "python",
   "pygments_lexer": "ipython3",
   "version": "3.9.7"
  }
 },
 "nbformat": 4,
 "nbformat_minor": 5
}
